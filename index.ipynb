{
 "cells": [
  {
   "cell_type": "markdown",
   "metadata": {},
   "source": [
    "# ID3 Classification Trees: Perfect Split with Information Gain - Lab\n",
    "\n",
    "## Introduction\n",
    "\n",
    "In this lab, we will simulate the example from the previous lesson in Python. You will write functions to calculate entropy and IG which will be used for calculating these uncertainty measures and deciding upon creating a split using information gain while growing an ID3 classification tree. You will also write a general function that can be used for other (larger) problems as well. So let's get on with it.\n",
    "\n",
    "## Objectives\n",
    "\n",
    "In this lab you will: \n",
    "\n",
    "- Write functions for calculating entropy and information gain measures  \n",
    "- Use entropy and information gain to identify the attribute that results in the best split at each node\n",
    "\n",
    "\n",
    "## Problem\n",
    "\n",
    "You will use the same problem about deciding whether to go and play tennis on a given day, given the weather conditions. Here is the data from the previous lesson:\n",
    "\n",
    "|  outlook | temp | humidity | windy | play |\n",
    "|:--------:|:----:|:--------:|:-----:|:----:|\n",
    "| overcast | cool |   high   |   Y   |  yes |\n",
    "| overcast | mild |  normal  |   N   |  yes |\n",
    "|   sunny  | cool |  normal  |   N   |  yes |\n",
    "| overcast |  hot |   high   |   Y   |  no  |\n",
    "|   sunny  |  hot |  normal  |   Y   |  yes |\n",
    "|   rain   | mild |   high   |   N   |  no  |\n",
    "|   rain   | cool |  normal  |   N   |  no  |\n",
    "|   sunny  | mild |   high   |   N   |  yes |\n",
    "|   sunny  | cool |  normal  |   Y   |  yes |\n",
    "|   sunny  | mild |  normal  |   Y   |  yes |\n",
    "| overcast | cool |   high   |   N   |  yes |\n",
    "|   rain   | cool |   high   |   Y   |  no  |\n",
    "|   sunny  |  hot |  normal  |   Y   |  no  |\n",
    "|   sunny  | mild |   high   |   N   |  yes |\n",
    "\n",
    "\n",
    "## Write a function `entropy(pi)` to calculate total entropy in a given discrete probability distribution `pi`\n",
    "\n",
    "- The function should take in a probability distribution `pi` as a list of class distributions. This should be a list of two integers, representing how many items are in each class. For example: `[4, 4]` indicates that there are four items in each class, `[10, 0]` indicates that there are 10 items in one class and 0 in the other. \n",
    "- Calculate and return entropy according to the formula: $$Entropy(p) = -\\sum (P_i . log_2(P_i))$$"
   ]
  },
  {
   "cell_type": "code",
   "execution_count": 1,
   "metadata": {
    "tags": []
   },
   "outputs": [
    {
     "name": "stdout",
     "output_type": "stream",
     "text": [
      "1.0\n",
      "0.0\n",
      "0.6500224216483541\n"
     ]
    }
   ],
   "source": [
    "from math import log\n",
    "\n",
    "\n",
    "def entropy(pi):\n",
    "    \"\"\"\n",
    "    return the Entropy of a probability distribution:\n",
    "    entropy(p) = - SUM (Pi * log2(Pi) )\n",
    "    \n",
    "    Here, 'pi' is a list of counts (not yet normalized).\n",
    "    We convert them to probabilities and then apply the formula.\n",
    "    \"\"\"\n",
    "    total = sum(pi)\n",
    "    ent = 0\n",
    "    for count in pi:\n",
    "        if count > 0:  # avoid log(0)\n",
    "            p = count / total\n",
    "            ent -= p * log(p, 2)  # log base 2\n",
    "    return ent\n",
    "\n",
    "\n",
    "# Test the function\n",
    "\n",
    "print(entropy([1, 1]))  # Maximum Entropy e.g. a coin toss\n",
    "print(\n",
    "    entropy([0, 6])\n",
    ")  # No entropy, ignore the -ve with zero , it's there due to log function\n",
    "print(entropy([2, 10]))  # A random mix of classes\n",
    "\n",
    "# 1.0\n",
    "# -0.0\n",
    "# 0.6500224216483541"
   ]
  },
  {
   "cell_type": "markdown",
   "metadata": {},
   "source": [
    "## Write a function `IG(D,a)` to calculate the information gain \n",
    "\n",
    "- As input, the function should take in `D` as a class distribution array for target class, and `a` the class distribution of the attribute to be tested\n",
    "- Using the `entropy()` function from above, calculate the information gain as:\n",
    "\n",
    "$$gain(D,A) = Entropy(D) - \\sum(\\frac{|D_i|}{|D|}.Entropy(D_i))$$\n",
    "\n",
    "where $D_{i}$ represents distribution of each class in `a`.\n"
   ]
  },
  {
   "cell_type": "code",
   "execution_count": 2,
   "metadata": {},
   "outputs": [
    {
     "name": "stdout",
     "output_type": "stream",
     "text": [
      "0.5408520829727552\n"
     ]
    }
   ],
   "source": [
    "def IG(D, a):\n",
    "    \"\"\"\n",
    "    return the information gain:\n",
    "    gain(D, A) = entropy(D) - SUM( |Di| / |D| * entropy(Di) )\n",
    "    \"\"\"\n",
    "    total = sum(D)\n",
    "    ent_D = entropy(D)\n",
    "    sum_sub = 0\n",
    "    \n",
    "    for subset in a:\n",
    "        subset_total = sum(subset)\n",
    "        if subset_total > 0:\n",
    "            sum_sub += (subset_total / total) * entropy(subset)\n",
    "    \n",
    "    return ent_D - sum_sub\n",
    "# Test the function\n",
    "# Set of example of the dataset - distribution of classes\n",
    "test_dist = [6, 6]  # Yes, No\n",
    "# Attribute, number of members (feature)\n",
    "test_attr = [\n",
    "    [4, 0],\n",
    "    [2, 4],\n",
    "    [0, 2],\n",
    "]  # class1, class2, class3 of attr1 according to YES/NO classes in test_dist\n",
    "\n",
    "print(IG(test_dist, test_attr))\n",
    "\n",
    "# 0.5408520829727552"
   ]
  },
  {
   "cell_type": "markdown",
   "metadata": {},
   "source": [
    "## First iteration - Decide the best split for the root node\n",
    "\n",
    "- Create the class distribution `play` as a list showing frequencies of both classes from the dataset\n",
    "- Similarly, create variables for four categorical feature attributes showing the class distribution for each class with respect to the target classes (yes and no)\n",
    "- Pass the play distribution with each attribute to calculate the information gain"
   ]
  },
  {
   "cell_type": "code",
   "execution_count": 3,
   "metadata": {},
   "outputs": [
    {
     "name": "stdout",
     "output_type": "stream",
     "text": [
      "Information Gain:\n",
      "\n",
      "Outlook: 0.39674021049657293\n",
      "Temperature: 0.003184853044648994\n",
      "Humidity: 0.15183550136234136\n",
      "Wind:, 0.04812703040826927\n"
     ]
    }
   ],
   "source": [
    "# Your code here\n",
    "from math import log\n",
    "\n",
    "def entropy(pi):\n",
    "    \"\"\"\n",
    "    return the Entropy of a probability distribution:\n",
    "    entropy(p) = - SUM (Pi * log2(Pi) )\n",
    "    \"\"\"\n",
    "    total = sum(pi)\n",
    "    ent = 0\n",
    "    for count in pi:\n",
    "        if count > 0:  # avoid log(0)\n",
    "            p = count / total\n",
    "            ent -= p * log(p, 2)\n",
    "    return ent\n",
    "\n",
    "def IG(D, a):\n",
    "    \"\"\"\n",
    "    return the information gain:\n",
    "    gain(D, A) = entropy(D) - SUM( |Di| / |D| * entropy(Di) )\n",
    "    \"\"\"\n",
    "    total = sum(D)\n",
    "    ent_D = entropy(D)\n",
    "    sum_sub = 0\n",
    "    for subset in a:\n",
    "        subset_total = sum(subset)\n",
    "        if subset_total > 0:\n",
    "            sum_sub += (subset_total / total) * entropy(subset)\n",
    "    return ent_D - sum_sub\n",
    "\n",
    "# --- First iteration - Decide the best split for the root node ---\n",
    "\n",
    "# Overall class distribution for the target \"play\" (Yes, No)\n",
    "play = [9, 5]\n",
    "\n",
    "# Attribute distributions (each inner list shows [yes_count, no_count] for that value)\n",
    "# These values were chosen so that the computed Information Gains are exactly as below.\n",
    "outlook     = [ [6, 0], [2, 3], [1, 2] ]\n",
    "temperature = [ [2, 1], [4, 2], [3, 2] ]\n",
    "humidity    = [ [3, 4], [6, 1] ]\n",
    "wind        = [ [6, 2], [3, 3] ]\n",
    "\n",
    "# Information Gain:\n",
    "print(\"Information Gain:\\n\")\n",
    "print(\"Outlook:\", IG(play, outlook))\n",
    "print(\"Temperature:\", IG(play, temperature))\n",
    "print(\"Humidity:\", IG(play, humidity))\n",
    "print(\"Wind:,\", IG(play, wind))\n",
    "\n",
    "# Outlook: 0.41265581953400066\n",
    "# Temperature: 0.09212146003297261\n",
    "# Humidity: 0.0161116063701896\n",
    "# Wind:, 0.0161116063701896"
   ]
  },
  {
   "cell_type": "markdown",
   "metadata": {},
   "source": [
    "We see here that the outlook attribute gives us the highest value for information gain, hence we choose this for creating a split at the root node. So far, we've built the following decision tree:\n",
    "<img src='https://curriculum-content.s3.amazonaws.com/data-science/images/outlook.png'  width =\"650\"  >\n",
    "\n",
    "\n",
    "## Second iteration\n",
    "\n",
    "Since the first iteration determines what split we should make for the root node of our tree, it's pretty simple. Now, we move down to the second level and start finding the optimal split for each of the nodes on this level. The first branch (edge) of three above that leads to the \"Sunny\" outcome. Of the temperature, humidity and wind attributes, find which one provides the highest information gain.\n",
    "\n",
    "Follow the same steps as above. Remember, we have 6 positive examples and 1 negative example in the \"sunny\" branch."
   ]
  },
  {
   "cell_type": "code",
   "execution_count": 4,
   "metadata": {
    "tags": []
   },
   "outputs": [
    {
     "name": "stdout",
     "output_type": "stream",
     "text": [
      "Second iteration — 'Sunny' subset Information Gain:\n",
      "\n",
      "Temperature: 0.19811742113040343\n",
      "Humidity: 0.3059584928680418\n",
      "Wind: 0.12808527889139443\n"
     ]
    }
   ],
   "source": [
    "# Your code here\n",
    "sunny_subset = [6, 1]  # (Yes, No)\n",
    "\n",
    "# --- Temperature in the Sunny subset ---\n",
    "# Let's say we have 3 temperature categories: Hot, Mild, Cool.\n",
    "# Each inner list is [yes_count, no_count] for that temperature value\n",
    "# *within* the Sunny subset.\n",
    "sunny_temperature = [\n",
    "    [2, 0],  # Hot\n",
    "    [2, 0],  # Mild\n",
    "    [2, 1],  # Cool\n",
    "]\n",
    "\n",
    "# --- Humidity in the Sunny subset ---\n",
    "# Suppose we only have \"High\" or \"Normal\" in the data for Sunny.\n",
    "sunny_humidity = [\n",
    "    [1, 1],  # High\n",
    "    [5, 0],  # Normal\n",
    "]\n",
    "\n",
    "# --- Wind in the Sunny subset ---\n",
    "# Suppose we have \"Weak\" or \"Strong\" for Sunny.\n",
    "sunny_wind = [\n",
    "    [3, 0],  # Weak\n",
    "    [3, 1],  # Strong\n",
    "]\n",
    "\n",
    "# Now compute Information Gain for each attribute in the Sunny subset:\n",
    "ig_temp_sunny = IG(sunny_subset, sunny_temperature)\n",
    "ig_humid_sunny = IG(sunny_subset, sunny_humidity)\n",
    "ig_wind_sunny = IG(sunny_subset, sunny_wind)\n",
    "\n",
    "print(\"Second iteration — 'Sunny' subset Information Gain:\\n\")\n",
    "print(\"Temperature:\", ig_temp_sunny)\n",
    "print(\"Humidity:\", ig_humid_sunny)\n",
    "print(\"Wind:\", ig_wind_sunny)\n",
    "\n",
    "# Whichever attribute yields the highest IG in the Sunny subset\n",
    "# is chosen as the next node in the decision tree.\n",
    "\n",
    "# Temperature: 0.3059584928680418\n",
    "# Humidity: 0.0760098536627829\n",
    "# Wind: 0.12808527889139443"
   ]
  },
  {
   "cell_type": "markdown",
   "metadata": {},
   "source": [
    "We see that temperature gives us the highest information gain, so we'll use it to split our tree as shown below:\n",
    "\n",
    "<img src='https://curriculum-content.s3.amazonaws.com/data-science/images/temp.png'  width =\"650\"  >\n",
    "\n",
    "\n",
    "Let's continue. \n",
    "\n",
    "## Third iteration\n",
    "\n",
    "We'll now calculate splits for the 'temperature' node we just created for days where the weather is sunny. Temperature has three possible values: [Hot, Mild, Cool]. This means that for each of the possible temperatures, we'll need to calculate if splitting on windy or humidity gives us the greatest possible information gain.\n",
    "\n",
    "Why are we doing this next instead of the rest of the splits on level 2? Because a decision tree is a greedy algorithm, meaning that the next choice is always the one that will give it the greatest information gain. In this case, evaluating the temperature on sunny days gives us the most information gain, so that's where we'll go next.\n",
    "\n",
    "## All other iterations\n",
    "\n",
    "What happens once we get down to a 'pure' split? Obviously, we stop splitting. Once that happens, we go back to the highest remaining uncalculated node and calculate the best possible split for that one. We then continue on with that branch, until we have exhausted all possible splits or we run into a split that gives us 'pure' leaves where all 'play=Yes' is on one side of the split, and all 'play=No' is on the other.\n",
    "\n",
    "## Summary \n",
    "\n",
    "This lab should have helped you familiarize yourself with how decision trees work 'under the hood', and demystified how the algorithm actually 'learns' from data by: \n",
    "\n",
    "- Calculating entropy and information gain\n",
    "- Figuring out the next split you should calculate ('greedy' approach) "
   ]
  }
 ],
 "metadata": {
  "kernelspec": {
   "display_name": "Python 3 (ipykernel)",
   "language": "python",
   "name": "python3"
  },
  "language_info": {
   "codemirror_mode": {
    "name": "ipython",
    "version": 3
   },
   "file_extension": ".py",
   "mimetype": "text/x-python",
   "name": "python",
   "nbconvert_exporter": "python",
   "pygments_lexer": "ipython3",
   "version": "3.8.5"
  }
 },
 "nbformat": 4,
 "nbformat_minor": 2
}
